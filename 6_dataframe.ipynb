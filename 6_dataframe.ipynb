{
 "cells": [
  {
   "cell_type": "markdown",
   "id": "c798e8f0",
   "metadata": {},
   "source": [
    "# Dataframe"
   ]
  },
  {
   "cell_type": "code",
   "execution_count": 1,
   "id": "050f160b",
   "metadata": {},
   "outputs": [],
   "source": [
    "import pandas as pd\n",
    "import numpy as np"
   ]
  },
  {
   "cell_type": "code",
   "execution_count": 4,
   "id": "1a352eb3",
   "metadata": {},
   "outputs": [
    {
     "name": "stdout",
     "output_type": "stream",
     "text": [
      "    0\n",
      "0   1\n",
      "1   3\n",
      "2  54\n",
      "3   6\n",
      "<class 'pandas.core.frame.DataFrame'>\n"
     ]
    }
   ],
   "source": [
    "list1=[1,3,54,6]\n",
    "var=pd.DataFrame(list1)\n",
    "print(var)\n",
    "print(type(var))"
   ]
  },
  {
   "cell_type": "code",
   "execution_count": 9,
   "id": "22c9b6a9",
   "metadata": {},
   "outputs": [
    {
     "name": "stdout",
     "output_type": "stream",
     "text": [
      "    a  b\n",
      "0   2  1\n",
      "1   4  3\n",
      "2   6  5\n",
      "3   8  7\n",
      "4  10  9\n",
      "<class 'pandas.core.frame.DataFrame'>\n"
     ]
    }
   ],
   "source": [
    "dic={'a':[2,4,6,8,10], 'b':[1,3,5,7,9]}\n",
    "var2=pd.DataFrame(dic)\n",
    "print(var2)\n",
    "print(type(var2))"
   ]
  },
  {
   "cell_type": "code",
   "execution_count": 16,
   "id": "1a078f14",
   "metadata": {
    "scrolled": true
   },
   "outputs": [
    {
     "name": "stdout",
     "output_type": "stream",
     "text": [
      "   b  1\n",
      "0  1  1\n",
      "1  3  4\n",
      "2  5  6\n",
      "3  7  7\n",
      "4  9  9\n",
      "<class 'pandas.core.frame.DataFrame'>\n"
     ]
    }
   ],
   "source": [
    "dic={'a':[2,4,6,8,10], 'b':[1,3,5,7,9],1:[1,4,6,7,9]}\n",
    "var2=pd.DataFrame(dic,columns=['b',1])\n",
    "print(var2)\n",
    "print(type(var2))"
   ]
  },
  {
   "cell_type": "code",
   "execution_count": 21,
   "id": "25120e52",
   "metadata": {},
   "outputs": [
    {
     "name": "stdout",
     "output_type": "stream",
     "text": [
      "    a  b  1\n",
      "0   2  1  1\n",
      "1   4  3  4\n",
      "2   6  5  6\n",
      "3   8  7  7\n",
      "4  10  9  9\n",
      "8\n",
      "<class 'pandas.core.frame.DataFrame'>\n"
     ]
    }
   ],
   "source": [
    "dic={'a':[2,4,6,8,10], 'b':[1,3,5,7,9],1:[1,4,6,7,9]}\n",
    "var2=pd.DataFrame(dic)\n",
    "print(var2)\n",
    "print(var2['a'][3])\n",
    "print(type(var2))"
   ]
  },
  {
   "cell_type": "code",
   "execution_count": 23,
   "id": "279b5758",
   "metadata": {},
   "outputs": [
    {
     "name": "stdout",
     "output_type": "stream",
     "text": [
      "    0   1   2\n",
      "0   1  23   4\n",
      "1  23  45  77\n",
      "2  99  87   4\n",
      "<class 'pandas.core.frame.DataFrame'>\n"
     ]
    }
   ],
   "source": [
    "list1=[[1,23,4],[23,45,77],[99,87,4]]\n",
    "var3=pd.DataFrame(list1)\n",
    "print(var3)\n",
    "print(type(var3))"
   ]
  },
  {
   "cell_type": "code",
   "execution_count": 26,
   "id": "3cdf0f0f",
   "metadata": {},
   "outputs": [
    {
     "name": "stdout",
     "output_type": "stream",
     "text": [
      "   s  r\n",
      "0  1  1\n",
      "1  4  4\n",
      "2  5  5\n",
      "3  6  6\n"
     ]
    }
   ],
   "source": [
    "sr={'s':pd.Series([1,4,5,6]),'r':pd.Series([1,4,5,6])}\n",
    "df=pd.DataFrame(sr)\n",
    "print(df)"
   ]
  },
  {
   "cell_type": "code",
   "execution_count": null,
   "id": "5c7e8316",
   "metadata": {},
   "outputs": [],
   "source": []
  }
 ],
 "metadata": {
  "kernelspec": {
   "display_name": "Python 3 (ipykernel)",
   "language": "python",
   "name": "python3"
  },
  "language_info": {
   "codemirror_mode": {
    "name": "ipython",
    "version": 3
   },
   "file_extension": ".py",
   "mimetype": "text/x-python",
   "name": "python",
   "nbconvert_exporter": "python",
   "pygments_lexer": "ipython3",
   "version": "3.10.9"
  }
 },
 "nbformat": 4,
 "nbformat_minor": 5
}
